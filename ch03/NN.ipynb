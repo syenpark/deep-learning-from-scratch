{
 "cells": [
  {
   "cell_type": "code",
   "execution_count": 1,
   "metadata": {},
   "outputs": [
    {
     "data": {
      "text/plain": [
       "<Figure size 640x480 with 1 Axes>"
      ]
     },
     "metadata": {},
     "output_type": "display_data"
    }
   ],
   "source": [
    "import numpy as np\n",
    "import sigmoid"
   ]
  },
  {
   "cell_type": "markdown",
   "metadata": {},
   "source": [
    "# Layer 1"
   ]
  },
  {
   "cell_type": "code",
   "execution_count": 10,
   "metadata": {},
   "outputs": [
    {
     "name": "stdout",
     "output_type": "stream",
     "text": [
      "[0.3 0.7 1.1]\n",
      "[0.57444252 0.66818777 0.75026011]\n"
     ]
    }
   ],
   "source": [
    "# (2,)\n",
    "X = np.array([1.0, 0.5])\n",
    "# (2, 3)\n",
    "W1 = np.array([[0.1, 0.3, 0.5], \n",
    "               [0.2, 0.4, 0.6]])\n",
    "# (3, )\n",
    "B1 = np.array([0.1, 0.2, 0.3])\n",
    "\n",
    "# A = XW + B\n",
    "A1 = np.dot(X, W1) + B1\n",
    "Z1 = sigmoid.sigmoid(A1)\n",
    "\n",
    "print(A1)\n",
    "print(Z1)"
   ]
  },
  {
   "cell_type": "markdown",
   "metadata": {},
   "source": [
    "# Layer 2"
   ]
  },
  {
   "cell_type": "code",
   "execution_count": 11,
   "metadata": {},
   "outputs": [
    {
     "name": "stdout",
     "output_type": "stream",
     "text": [
      "[0.51615984 1.21402696]\n",
      "[0.62624937 0.7710107 ]\n"
     ]
    }
   ],
   "source": [
    "# (3, 2)\n",
    "W2 = np.array([[0.1, 0.4], \n",
    "               [0.2, 0.5],\n",
    "               [0.3, 0.6]])\n",
    "# (2, )\n",
    "B2 = np.array([0.1, 0.2])\n",
    "\n",
    "# A = XW + B\n",
    "A2 = np.dot(Z1, W2) + B2\n",
    "Z2 = sigmoid.sigmoid(A2)\n",
    "\n",
    "print(A2)\n",
    "print(Z2)"
   ]
  },
  {
   "cell_type": "markdown",
   "metadata": {},
   "source": [
    "# Layer 3"
   ]
  },
  {
   "cell_type": "code",
   "execution_count": 14,
   "metadata": {},
   "outputs": [
    {
     "name": "stdout",
     "output_type": "stream",
     "text": [
      "[0.31682708 0.69627909]\n",
      "[0.31682708 0.69627909]\n"
     ]
    }
   ],
   "source": [
    "W3 = np.array([[.1, .3], [.2, .4]])\n",
    "B3 = np.array([.1, .2])\n",
    "\n",
    "A3 = np.dot(Z2, W3) + B3\n",
    "Y = A3\n",
    "print(A3)\n",
    "print(Y)"
   ]
  }
 ],
 "metadata": {
  "kernelspec": {
   "display_name": "Python 3",
   "language": "python",
   "name": "python3"
  },
  "language_info": {
   "codemirror_mode": {
    "name": "ipython",
    "version": 3
   },
   "file_extension": ".py",
   "mimetype": "text/x-python",
   "name": "python",
   "nbconvert_exporter": "python",
   "pygments_lexer": "ipython3",
   "version": "3.7.0"
  }
 },
 "nbformat": 4,
 "nbformat_minor": 2
}
